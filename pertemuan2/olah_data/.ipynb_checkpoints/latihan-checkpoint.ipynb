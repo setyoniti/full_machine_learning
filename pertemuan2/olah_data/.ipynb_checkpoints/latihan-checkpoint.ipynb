{
 "cells": [
  {
   "cell_type": "code",
   "execution_count": 2,
   "id": "35df3591-b4e1-4d94-a2cf-0db3504c5f63",
   "metadata": {},
   "outputs": [],
   "source": [
    "import numpy as np\n",
    "import matplotlib.pyplot as plt\n",
    "import pandas as pd"
   ]
  },
  {
   "cell_type": "code",
   "execution_count": 3,
   "id": "38d7c272-f600-4a36-bd67-a5adc60ebfd3",
   "metadata": {},
   "outputs": [],
   "source": [
    "height = [2, 1.79, 1.82, 1.90, 1.80]\n",
    "weight = [66.5, 60.3, 64.7, 89.5, 69.8] "
   ]
  },
  {
   "cell_type": "code",
   "execution_count": 4,
   "id": "5dc7e7aa-29ca-4d7f-88b1-189aaf5ff913",
   "metadata": {},
   "outputs": [],
   "source": [
    "np_height = np.array(height)"
   ]
  },
  {
   "cell_type": "code",
   "execution_count": 5,
   "id": "15f2abf0-af01-449c-851b-be6a9e693d1b",
   "metadata": {},
   "outputs": [
    {
     "data": {
      "text/plain": [
       "numpy.ndarray"
      ]
     },
     "execution_count": 5,
     "metadata": {},
     "output_type": "execute_result"
    }
   ],
   "source": [
    "type(np_height)"
   ]
  },
  {
   "cell_type": "code",
   "execution_count": 6,
   "id": "df81061d-6105-4453-b2d0-2fe09e2300d6",
   "metadata": {},
   "outputs": [],
   "source": [
    "np_weight = np.array(weight)"
   ]
  },
  {
   "cell_type": "code",
   "execution_count": 8,
   "id": "fd8ba40a-ed8e-4b4d-ba07-d7061d483fc1",
   "metadata": {},
   "outputs": [
    {
     "data": {
      "text/plain": [
       "array([66.5, 60.3, 64.7, 89.5, 69.8])"
      ]
     },
     "execution_count": 8,
     "metadata": {},
     "output_type": "execute_result"
    }
   ],
   "source": [
    "np_weight"
   ]
  },
  {
   "cell_type": "code",
   "execution_count": 7,
   "id": "001095b4-785c-4f25-ab69-6a499e32036e",
   "metadata": {},
   "outputs": [],
   "source": [
    "bmi = np_weight / np_height ** 2"
   ]
  },
  {
   "cell_type": "code",
   "execution_count": 8,
   "id": "857de41b-4250-48bf-ad48-41671f0eb1bf",
   "metadata": {},
   "outputs": [
    {
     "data": {
      "text/plain": [
       "array([16.625     , 18.81963734, 19.53266514, 24.79224377, 21.54320988])"
      ]
     },
     "execution_count": 8,
     "metadata": {},
     "output_type": "execute_result"
    }
   ],
   "source": [
    "bmi"
   ]
  },
  {
   "cell_type": "code",
   "execution_count": 9,
   "id": "f64c771e-79e2-4be6-bac3-7eac4ac4a148",
   "metadata": {},
   "outputs": [],
   "source": [
    "np_height = np.array([1.84, 1.79, 1.82, 1.9, 1.8])\n",
    "np_weight = np.array([66.5, 60.3, 64.7, 89.5, 69.8])"
   ]
  },
  {
   "cell_type": "code",
   "execution_count": 10,
   "id": "4d3cc0c6-31c4-4038-aa0c-7588c97069cb",
   "metadata": {},
   "outputs": [],
   "source": [
    "np_2d = np.array([[1, 2, 3, 4, 5], [6, 7, 8, 9, 10]])"
   ]
  },
  {
   "cell_type": "code",
   "execution_count": 11,
   "id": "6ab80a7c-9682-4671-a01e-0dc320ca128b",
   "metadata": {},
   "outputs": [
    {
     "data": {
      "text/plain": [
       "array([[ 1,  2,  3,  4,  5],\n",
       "       [ 6,  7,  8,  9, 10]])"
      ]
     },
     "execution_count": 11,
     "metadata": {},
     "output_type": "execute_result"
    }
   ],
   "source": [
    "np_2d"
   ]
  },
  {
   "cell_type": "code",
   "execution_count": 12,
   "id": "0274bad0-2e59-44b0-90b7-abb5eced933b",
   "metadata": {},
   "outputs": [
    {
     "data": {
      "text/plain": [
       "(2, 5)"
      ]
     },
     "execution_count": 12,
     "metadata": {},
     "output_type": "execute_result"
    }
   ],
   "source": [
    "np_2d.shape"
   ]
  },
  {
   "cell_type": "code",
   "execution_count": 16,
   "id": "6ae82045-3084-4c21-bfac-c49abc2c5b22",
   "metadata": {},
   "outputs": [
    {
     "data": {
      "text/plain": [
       "array([1, 2, 3, 4, 5])"
      ]
     },
     "execution_count": 16,
     "metadata": {},
     "output_type": "execute_result"
    }
   ],
   "source": [
    "#series\n",
    "np.array([1, 2, 3, 4, 5])"
   ]
  },
  {
   "cell_type": "code",
   "execution_count": 17,
   "id": "edd20a1f-c70a-4634-86ff-9c323d348f82",
   "metadata": {},
   "outputs": [
    {
     "data": {
      "text/plain": [
       "array([[1, 2],\n",
       "       [3, 4]])"
      ]
     },
     "execution_count": 17,
     "metadata": {},
     "output_type": "execute_result"
    }
   ],
   "source": [
    "# DataFrame\n",
    "np.array([[1, 2], [3, 4]])"
   ]
  },
  {
   "cell_type": "code",
   "execution_count": 3,
   "id": "f5200541-b652-46fc-8b25-0892ded365e7",
   "metadata": {},
   "outputs": [],
   "source": [
    "Tab = pd.read_csv(\"serious-injury-outcome-indicators-2000-2022.csv\")"
   ]
  },
  {
   "cell_type": "code",
   "execution_count": 4,
   "id": "c61da820-2cbf-4e44-946c-aa7c17153cc2",
   "metadata": {},
   "outputs": [
    {
     "data": {
      "text/html": [
       "<div>\n",
       "<style scoped>\n",
       "    .dataframe tbody tr th:only-of-type {\n",
       "        vertical-align: middle;\n",
       "    }\n",
       "\n",
       "    .dataframe tbody tr th {\n",
       "        vertical-align: top;\n",
       "    }\n",
       "\n",
       "    .dataframe thead th {\n",
       "        text-align: right;\n",
       "    }\n",
       "</style>\n",
       "<table border=\"1\" class=\"dataframe\">\n",
       "  <thead>\n",
       "    <tr style=\"text-align: right;\">\n",
       "      <th></th>\n",
       "      <th>Series_reference</th>\n",
       "      <th>Period</th>\n",
       "      <th>Type</th>\n",
       "      <th>Data_value</th>\n",
       "      <th>Lower_CI</th>\n",
       "      <th>Upper_CI</th>\n",
       "      <th>Units</th>\n",
       "      <th>Indicator</th>\n",
       "      <th>Cause</th>\n",
       "      <th>Validation</th>\n",
       "      <th>Population</th>\n",
       "      <th>Age</th>\n",
       "      <th>Severity</th>\n",
       "    </tr>\n",
       "  </thead>\n",
       "  <tbody>\n",
       "    <tr>\n",
       "      <th>0</th>\n",
       "      <td>W_A11</td>\n",
       "      <td>2000-02</td>\n",
       "      <td>Moving average</td>\n",
       "      <td>59.666667</td>\n",
       "      <td>50.925823</td>\n",
       "      <td>68.407510</td>\n",
       "      <td>Injuries</td>\n",
       "      <td>Number</td>\n",
       "      <td>Assault</td>\n",
       "      <td>Validated</td>\n",
       "      <td>Whole pop</td>\n",
       "      <td>All ages</td>\n",
       "      <td>Fatal</td>\n",
       "    </tr>\n",
       "    <tr>\n",
       "      <th>1</th>\n",
       "      <td>W_A11</td>\n",
       "      <td>2001-03</td>\n",
       "      <td>Moving average</td>\n",
       "      <td>60.000000</td>\n",
       "      <td>51.234775</td>\n",
       "      <td>68.765225</td>\n",
       "      <td>Injuries</td>\n",
       "      <td>Number</td>\n",
       "      <td>Assault</td>\n",
       "      <td>Validated</td>\n",
       "      <td>Whole pop</td>\n",
       "      <td>All ages</td>\n",
       "      <td>Fatal</td>\n",
       "    </tr>\n",
       "    <tr>\n",
       "      <th>2</th>\n",
       "      <td>W_A11</td>\n",
       "      <td>2002-04</td>\n",
       "      <td>Moving average</td>\n",
       "      <td>59.000000</td>\n",
       "      <td>50.308125</td>\n",
       "      <td>67.691875</td>\n",
       "      <td>Injuries</td>\n",
       "      <td>Number</td>\n",
       "      <td>Assault</td>\n",
       "      <td>Validated</td>\n",
       "      <td>Whole pop</td>\n",
       "      <td>All ages</td>\n",
       "      <td>Fatal</td>\n",
       "    </tr>\n",
       "    <tr>\n",
       "      <th>3</th>\n",
       "      <td>W_A11</td>\n",
       "      <td>2003-05</td>\n",
       "      <td>Moving average</td>\n",
       "      <td>59.000000</td>\n",
       "      <td>50.308125</td>\n",
       "      <td>67.691875</td>\n",
       "      <td>Injuries</td>\n",
       "      <td>Number</td>\n",
       "      <td>Assault</td>\n",
       "      <td>Validated</td>\n",
       "      <td>Whole pop</td>\n",
       "      <td>All ages</td>\n",
       "      <td>Fatal</td>\n",
       "    </tr>\n",
       "    <tr>\n",
       "      <th>4</th>\n",
       "      <td>W_A11</td>\n",
       "      <td>2004-06</td>\n",
       "      <td>Moving average</td>\n",
       "      <td>61.333333</td>\n",
       "      <td>52.471252</td>\n",
       "      <td>70.195415</td>\n",
       "      <td>Injuries</td>\n",
       "      <td>Number</td>\n",
       "      <td>Assault</td>\n",
       "      <td>Validated</td>\n",
       "      <td>Whole pop</td>\n",
       "      <td>All ages</td>\n",
       "      <td>Fatal</td>\n",
       "    </tr>\n",
       "    <tr>\n",
       "      <th>...</th>\n",
       "      <td>...</td>\n",
       "      <td>...</td>\n",
       "      <td>...</td>\n",
       "      <td>...</td>\n",
       "      <td>...</td>\n",
       "      <td>...</td>\n",
       "      <td>...</td>\n",
       "      <td>...</td>\n",
       "      <td>...</td>\n",
       "      <td>...</td>\n",
       "      <td>...</td>\n",
       "      <td>...</td>\n",
       "      <td>...</td>\n",
       "    </tr>\n",
       "    <tr>\n",
       "      <th>2943</th>\n",
       "      <td>p21</td>\n",
       "      <td>2015</td>\n",
       "      <td>Single year</td>\n",
       "      <td>41.000000</td>\n",
       "      <td>28.450107</td>\n",
       "      <td>53.549893</td>\n",
       "      <td>Injuries</td>\n",
       "      <td>Number</td>\n",
       "      <td>Pedestrian</td>\n",
       "      <td>Validated</td>\n",
       "      <td>Children</td>\n",
       "      <td>0-14 years</td>\n",
       "      <td>Serious</td>\n",
       "    </tr>\n",
       "    <tr>\n",
       "      <th>2944</th>\n",
       "      <td>p21</td>\n",
       "      <td>2016</td>\n",
       "      <td>Single year</td>\n",
       "      <td>36.000000</td>\n",
       "      <td>24.240216</td>\n",
       "      <td>47.759784</td>\n",
       "      <td>Injuries</td>\n",
       "      <td>Number</td>\n",
       "      <td>Pedestrian</td>\n",
       "      <td>Validated</td>\n",
       "      <td>Children</td>\n",
       "      <td>0-14 years</td>\n",
       "      <td>Serious</td>\n",
       "    </tr>\n",
       "    <tr>\n",
       "      <th>2945</th>\n",
       "      <td>p21</td>\n",
       "      <td>2017</td>\n",
       "      <td>Single year</td>\n",
       "      <td>40.000000</td>\n",
       "      <td>27.604099</td>\n",
       "      <td>52.395901</td>\n",
       "      <td>Injuries</td>\n",
       "      <td>Number</td>\n",
       "      <td>Pedestrian</td>\n",
       "      <td>Validated</td>\n",
       "      <td>Children</td>\n",
       "      <td>0-14 years</td>\n",
       "      <td>Serious</td>\n",
       "    </tr>\n",
       "    <tr>\n",
       "      <th>2946</th>\n",
       "      <td>p21</td>\n",
       "      <td>2018</td>\n",
       "      <td>Single year</td>\n",
       "      <td>41.000000</td>\n",
       "      <td>28.450107</td>\n",
       "      <td>53.549893</td>\n",
       "      <td>Injuries</td>\n",
       "      <td>Number</td>\n",
       "      <td>Pedestrian</td>\n",
       "      <td>Validated</td>\n",
       "      <td>Children</td>\n",
       "      <td>0-14 years</td>\n",
       "      <td>Serious</td>\n",
       "    </tr>\n",
       "    <tr>\n",
       "      <th>2947</th>\n",
       "      <td>p21</td>\n",
       "      <td>2019</td>\n",
       "      <td>Single year</td>\n",
       "      <td>34.000000</td>\n",
       "      <td>22.571544</td>\n",
       "      <td>45.428456</td>\n",
       "      <td>Injuries</td>\n",
       "      <td>Number</td>\n",
       "      <td>Pedestrian</td>\n",
       "      <td>Validated</td>\n",
       "      <td>Children</td>\n",
       "      <td>0-14 years</td>\n",
       "      <td>Serious</td>\n",
       "    </tr>\n",
       "  </tbody>\n",
       "</table>\n",
       "<p>2948 rows × 13 columns</p>\n",
       "</div>"
      ],
      "text/plain": [
       "     Series_reference   Period            Type  Data_value   Lower_CI  \\\n",
       "0               W_A11  2000-02  Moving average   59.666667  50.925823   \n",
       "1               W_A11  2001-03  Moving average   60.000000  51.234775   \n",
       "2               W_A11  2002-04  Moving average   59.000000  50.308125   \n",
       "3               W_A11  2003-05  Moving average   59.000000  50.308125   \n",
       "4               W_A11  2004-06  Moving average   61.333333  52.471252   \n",
       "...               ...      ...             ...         ...        ...   \n",
       "2943              p21     2015     Single year   41.000000  28.450107   \n",
       "2944              p21     2016     Single year   36.000000  24.240216   \n",
       "2945              p21     2017     Single year   40.000000  27.604099   \n",
       "2946              p21     2018     Single year   41.000000  28.450107   \n",
       "2947              p21     2019     Single year   34.000000  22.571544   \n",
       "\n",
       "       Upper_CI     Units Indicator       Cause Validation Population  \\\n",
       "0     68.407510  Injuries    Number     Assault  Validated  Whole pop   \n",
       "1     68.765225  Injuries    Number     Assault  Validated  Whole pop   \n",
       "2     67.691875  Injuries    Number     Assault  Validated  Whole pop   \n",
       "3     67.691875  Injuries    Number     Assault  Validated  Whole pop   \n",
       "4     70.195415  Injuries    Number     Assault  Validated  Whole pop   \n",
       "...         ...       ...       ...         ...        ...        ...   \n",
       "2943  53.549893  Injuries    Number  Pedestrian  Validated   Children   \n",
       "2944  47.759784  Injuries    Number  Pedestrian  Validated   Children   \n",
       "2945  52.395901  Injuries    Number  Pedestrian  Validated   Children   \n",
       "2946  53.549893  Injuries    Number  Pedestrian  Validated   Children   \n",
       "2947  45.428456  Injuries    Number  Pedestrian  Validated   Children   \n",
       "\n",
       "             Age Severity  \n",
       "0       All ages    Fatal  \n",
       "1       All ages    Fatal  \n",
       "2       All ages    Fatal  \n",
       "3       All ages    Fatal  \n",
       "4       All ages    Fatal  \n",
       "...          ...      ...  \n",
       "2943  0-14 years  Serious  \n",
       "2944  0-14 years  Serious  \n",
       "2945  0-14 years  Serious  \n",
       "2946  0-14 years  Serious  \n",
       "2947  0-14 years  Serious  \n",
       "\n",
       "[2948 rows x 13 columns]"
      ]
     },
     "execution_count": 4,
     "metadata": {},
     "output_type": "execute_result"
    }
   ],
   "source": [
    "Tab"
   ]
  },
  {
   "cell_type": "code",
   "execution_count": 5,
   "id": "76190fac-5fc9-436e-8f44-b5ff9d6357ea",
   "metadata": {},
   "outputs": [
    {
     "data": {
      "text/plain": [
       "0       59.666667\n",
       "1       60.000000\n",
       "2       59.000000\n",
       "3       59.000000\n",
       "4       61.333333\n",
       "          ...    \n",
       "2943    41.000000\n",
       "2944    36.000000\n",
       "2945    40.000000\n",
       "2946    41.000000\n",
       "2947    34.000000\n",
       "Name: Data_value, Length: 2948, dtype: float64"
      ]
     },
     "execution_count": 5,
     "metadata": {},
     "output_type": "execute_result"
    }
   ],
   "source": [
    "Tab['Data_value']"
   ]
  },
  {
   "cell_type": "code",
   "execution_count": 6,
   "id": "35f02e79-0b03-496b-a1c0-21b5d4d9dd7e",
   "metadata": {},
   "outputs": [],
   "source": [
    "lower = Tab['Lower_CI']\n",
    "upper = Tab['Upper_CI']"
   ]
  },
  {
   "cell_type": "code",
   "execution_count": 7,
   "id": "f9f8c54f-9109-404e-b414-6710be02a328",
   "metadata": {},
   "outputs": [
    {
     "data": {
      "image/png": "[encoded data removed]",
      "text/plain": [
       "<Figure size 640x480 with 1 Axes>"
      ]
     },
     "metadata": {},
     "output_type": "display_data"
    }
   ],
   "source": [
    "plt.plot(lower,upper)\n",
    "plt.show()"
   ]
  },
  {
   "cell_type": "code",
   "execution_count": 8,
   "id": "f0efdeda-410f-4f94-a181-524de8e6dd23",
   "metadata": {},
   "outputs": [
    {
     "data": {
      "text/plain": [
       "<matplotlib.collections.PathCollection at 0x7f6ab8c997d0>"
      ]
     },
     "execution_count": 8,
     "metadata": {},
     "output_type": "execute_result"
    },
    {
     "data": {
      "image/png": "[encoded data removed]",
      "text/plain": [
       "<Figure size 640x480 with 1 Axes>"
      ]
     },
     "metadata": {},
     "output_type": "display_data"
    }
   ],
   "source": [
    "plt.scatter(upper,lower)"
   ]
  },
  {
   "cell_type": "code",
   "execution_count": 10,
   "id": "6b10ba13-97b1-4055-bbdb-75a24ca2820e",
   "metadata": {},
   "outputs": [
    {
     "data": {
      "text/plain": [
       "<BarContainer object of 2948 artists>"
      ]
     },
     "execution_count": 10,
     "metadata": {},
     "output_type": "execute_result"
    },
    {
     "data": {
      "image/png": "[encoded data removed]",
      "text/plain": [
       "<Figure size 640x480 with 1 Axes>"
      ]
     },
     "metadata": {},
     "output_type": "display_data"
    }
   ],
   "source": [
    "plt.bar(upper,lower)"
   ]
  },
  {
   "cell_type": "code",
   "execution_count": null,
   "id": "3cba28b2-aa17-4e6a-a4a3-dd41a77496bd",
   "metadata": {},
   "outputs": [],
   "source": []
  }
 ],
 "metadata": {
  "kernelspec": {
   "display_name": "Python 3 (ipykernel)",
   "language": "python",
   "name": "python3"
  },
  "language_info": {
   "codemirror_mode": {
    "name": "ipython",
    "version": 3
   },
   "file_extension": ".py",
   "mimetype": "text/x-python",
   "name": "python",
   "nbconvert_exporter": "python",
   "pygments_lexer": "ipython3",
   "version": "3.11.8"
  }
 },
 "nbformat": 4,
 "nbformat_minor": 5
}
